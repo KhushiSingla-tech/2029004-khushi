{
  "nbformat": 4,
  "nbformat_minor": 0,
  "metadata": {
    "colab": {
      "name": "Untitled3.ipynb",
      "provenance": [],
      "authorship_tag": "ABX9TyMkacIu89hDFa7Eh99dpq93",
      "include_colab_link": true
    },
    "kernelspec": {
      "name": "python3",
      "display_name": "Python 3"
    },
    "language_info": {
      "name": "python"
    }
  },
  "cells": [
    {
      "cell_type": "markdown",
      "metadata": {
        "id": "view-in-github",
        "colab_type": "text"
      },
      "source": [
        "<a href=\"https://colab.research.google.com/github/KhushiSingla-tech/2029004-khushi/blob/main/array.ipynb\" target=\"_parent\"><img src=\"https://colab.research.google.com/assets/colab-badge.svg\" alt=\"Open In Colab\"/></a>"
      ]
    },
    {
      "cell_type": "code",
      "metadata": {
        "colab": {
          "base_uri": "https://localhost:8080/"
        },
        "id": "S0KTHKsPpJkO",
        "outputId": "45d7e586-2955-43bc-9388-3cc15b1a5a18"
      },
      "source": [
        "arr = [1,2,3,4,5]\n",
        "print(arr)\n",
        "print(\"first element: \" , arr[0])\n",
        "print(\"second element: \" , arr[1])\n",
        "print(\"third element: \" , arr[2])\n",
        "print(\"fourth element: \" , arr[3])\n",
        "print(\"fifth element: \" , arr[4])"
      ],
      "execution_count": 1,
      "outputs": [
        {
          "output_type": "stream",
          "text": [
            "[1, 2, 3, 4, 5]\n",
            "first element:  1\n",
            "second element:  2\n",
            "third element:  3\n",
            "fourth element:  4\n",
            "fifth element:  5\n"
          ],
          "name": "stdout"
        }
      ]
    }
  ]
}